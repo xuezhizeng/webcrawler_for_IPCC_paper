{
 "cells": [
  {
   "cell_type": "code",
   "execution_count": 1,
   "metadata": {},
   "outputs": [],
   "source": [
    "import requests\n",
    "from requests.exceptions import RequestException\n",
    "import os\n",
    "import re\n",
    "import pandas as pd"
   ]
  },
  {
   "cell_type": "code",
   "execution_count": 2,
   "metadata": {},
   "outputs": [],
   "source": [
    "path = os.getcwd()"
   ]
  },
  {
   "cell_type": "code",
   "execution_count": 3,
   "metadata": {},
   "outputs": [],
   "source": [
    "def get_one_page(url):\n",
    "    try:\n",
    "        response = requests.get(url)\n",
    "        if response.status_code == 200:\n",
    "            return response.text\n",
    "        return None\n",
    "    except RequestException:\n",
    "        return None"
   ]
  },
  {
   "cell_type": "code",
   "execution_count": 5,
   "metadata": {},
   "outputs": [],
   "source": [
    "def parse_one_page(html):\n",
    "   \n",
    "    pattern = re.compile('<li>.*?<a id=.*?member-slide-open-link.*?>(.*?)<span>(.*?)</span></a>.*?Population:.*?(\\d+).*?Member since.*(\\d+\\.\\d+\\.\\d+).*?</li>', re.S)\n",
    "    items = re.findall(pattern, html)\n",
    "    \n",
    "    for item in items:\n",
    "        yield{\n",
    "            'name': item[0].split(\",\")[0],\n",
    "            'Country': item[1],\n",
    "            'Population': item[2],\n",
    "            'Member since':item[3]\n",
    "        }"
   ]
  },
  {
   "cell_type": "code",
   "execution_count": 6,
   "metadata": {},
   "outputs": [],
   "source": [
    "def write(path, content):\n",
    "    with open(path,\"w\") as f:\n",
    "        f.write(content)\n",
    "        f.close()"
   ]
  },
  {
   "cell_type": "code",
   "execution_count": 7,
   "metadata": {},
   "outputs": [],
   "source": [
    "def main(offset):\n",
    "    url = \"https://iclei.org/en/members-search.html?page=\" + str(offset)\n",
    "    \n",
    "    html = get_one_page(url)\n",
    "    for item in parse_one_page(html):\n",
    "        print(item)\n",
    "    return parse_one_page(html)"
   ]
  },
  {
   "cell_type": "code",
   "execution_count": null,
   "metadata": {},
   "outputs": [],
   "source": []
  }
 ],
 "metadata": {
  "kernelspec": {
   "display_name": "Python 3 (ipykernel)",
   "language": "python",
   "name": "python3"
  },
  "language_info": {
   "codemirror_mode": {
    "name": "ipython",
    "version": 3
   },
   "file_extension": ".py",
   "mimetype": "text/x-python",
   "name": "python",
   "nbconvert_exporter": "python",
   "pygments_lexer": "ipython3",
   "version": "3.9.12"
  }
 },
 "nbformat": 4,
 "nbformat_minor": 4
}
